{
 "cells": [
  {
   "cell_type": "markdown",
   "id": "b1f27f9e",
   "metadata": {},
   "source": [
    "#  Loading required python packages"
   ]
  },
  {
   "cell_type": "code",
   "execution_count": null,
   "id": "d8006cf2",
   "metadata": {},
   "outputs": [],
   "source": [
    "import pandas as pd    #dataframe and analysis\n",
    "import geopy.distance  #distance of coordinates\n",
    "import numpy as np     #for cleaning and maths\n",
    "import glob            #for specific pattern recognition"
   ]
  },
  {
   "cell_type": "markdown",
   "id": "f4af84a7",
   "metadata": {},
   "source": [
    "# Collecting all files\n",
    "    \n",
    "   #### Here we are working with data from a cyclistic 12 months dataset. all are in same type (.csv) files."
   ]
  },
  {
   "cell_type": "code",
   "execution_count": null,
   "id": "77c410aa",
   "metadata": {},
   "outputs": [],
   "source": [
    "all_files=glob.glob(r'C:\\Users\\mahad\\Downloads\\capstone_project\\project_1\\*.csv')"
   ]
  },
  {
   "cell_type": "code",
   "execution_count": null,
   "id": "d86deb02",
   "metadata": {},
   "outputs": [],
   "source": [
    "all_files"
   ]
  },
  {
   "cell_type": "markdown",
   "id": "6224e10d",
   "metadata": {},
   "source": [
    "#  Concatenating all files into one"
   ]
  },
  {
   "cell_type": "code",
   "execution_count": null,
   "id": "2d6ecc34",
   "metadata": {},
   "outputs": [],
   "source": [
    "yearly= pd.concat((pd.read_csv(file)\n",
    "                  for file in all_files),ignore_index=True)"
   ]
  },
  {
   "cell_type": "markdown",
   "id": "fbbaa8e9",
   "metadata": {},
   "source": [
    "## inspecting files for inconsistancy, null value and data typtes."
   ]
  },
  {
   "cell_type": "code",
   "execution_count": null,
   "id": "a612e1fb",
   "metadata": {},
   "outputs": [],
   "source": [
    "yearly.describe()"
   ]
  },
  {
   "cell_type": "code",
   "execution_count": 14,
   "id": "64e38f4f",
   "metadata": {
    "scrolled": false
   },
   "outputs": [
    {
     "name": "stdout",
     "output_type": "stream",
     "text": [
      "<class 'pandas.core.frame.DataFrame'>\n",
      "RangeIndex: 3489748 entries, 0 to 3489747\n",
      "Data columns (total 13 columns):\n",
      " #   Column              Non-Null Count    Dtype  \n",
      "---  ------              --------------    -----  \n",
      " 0   ride_id             3489748 non-null  object \n",
      " 1   rideable_type       3489748 non-null  object \n",
      " 2   started_at          3489748 non-null  object \n",
      " 3   ended_at            3489748 non-null  object \n",
      " 4   start_station_name  3367573 non-null  object \n",
      " 5   start_station_id    3366947 non-null  object \n",
      " 6   end_station_name    3346506 non-null  object \n",
      " 7   end_station_id      3346045 non-null  object \n",
      " 8   start_lat           3489748 non-null  float64\n",
      " 9   start_lng           3489748 non-null  float64\n",
      " 10  end_lat             3485010 non-null  float64\n",
      " 11  end_lng             3485010 non-null  float64\n",
      " 12  member_casual       3489748 non-null  object \n",
      "dtypes: float64(4), object(9)\n",
      "memory usage: 346.1+ MB\n"
     ]
    }
   ],
   "source": [
    "yearly.info(verbose=True, show_counts=True)"
   ]
  },
  {
   "cell_type": "code",
   "execution_count": 15,
   "id": "2c312040",
   "metadata": {},
   "outputs": [
    {
     "data": {
      "text/plain": [
       "Index(['ride_id', 'rideable_type', 'started_at', 'ended_at',\n",
       "       'start_station_name', 'start_station_id', 'end_station_name',\n",
       "       'end_station_id', 'start_lat', 'start_lng', 'end_lat', 'end_lng',\n",
       "       'member_casual'],\n",
       "      dtype='object')"
      ]
     },
     "execution_count": 15,
     "metadata": {},
     "output_type": "execute_result"
    }
   ],
   "source": [
    "yearly.columns"
   ]
  },
  {
   "cell_type": "markdown",
   "id": "1075d0c2",
   "metadata": {},
   "source": [
    "# convert date and time *datetime* readable"
   ]
  },
  {
   "cell_type": "code",
   "execution_count": null,
   "id": "7744362e",
   "metadata": {},
   "outputs": [],
   "source": []
  },
  {
   "cell_type": "code",
   "execution_count": 16,
   "id": "4d987251",
   "metadata": {
    "scrolled": true
   },
   "outputs": [],
   "source": [
    "yearly['started_at'] =  pd.to_datetime(yearly['started_at'], format='%Y-%m-%d %H:%M:%S')\n"
   ]
  },
  {
   "cell_type": "code",
   "execution_count": 17,
   "id": "0936f747",
   "metadata": {},
   "outputs": [],
   "source": [
    "yearly['ended_at'] =  pd.to_datetime(yearly['ended_at'], format='%Y-%m-%d %H:%M:%S')"
   ]
  },
  {
   "cell_type": "code",
   "execution_count": 18,
   "id": "55eeeb9d",
   "metadata": {
    "scrolled": false
   },
   "outputs": [
    {
     "data": {
      "text/plain": [
       "ride_id                       object\n",
       "rideable_type                 object\n",
       "started_at            datetime64[ns]\n",
       "ended_at              datetime64[ns]\n",
       "start_station_name            object\n",
       "start_station_id              object\n",
       "end_station_name              object\n",
       "end_station_id                object\n",
       "start_lat                    float64\n",
       "start_lng                    float64\n",
       "end_lat                      float64\n",
       "end_lng                      float64\n",
       "member_casual                 object\n",
       "dtype: object"
      ]
     },
     "execution_count": 18,
     "metadata": {},
     "output_type": "execute_result"
    }
   ],
   "source": [
    "yearly.dtypes"
   ]
  },
  {
   "cell_type": "markdown",
   "id": "504a7325",
   "metadata": {},
   "source": [
    "# Calculate the riding time\n"
   ]
  },
  {
   "cell_type": "code",
   "execution_count": 19,
   "id": "b8f5b48c",
   "metadata": {},
   "outputs": [],
   "source": [
    "yearly['riding_time'] = (yearly['ended_at'] - yearly['started_at'])/pd.Timedelta(minutes=1)"
   ]
  },
  {
   "cell_type": "markdown",
   "id": "0fe89296",
   "metadata": {},
   "source": [
    "checking the result. we find some unusual vaules so we inspect them. there are some negetive values and some illogically big vaules which caused by corrupted data we need to fillter them. we took maximum value of 24 hour."
   ]
  },
  {
   "cell_type": "code",
   "execution_count": 23,
   "id": "2ab67c57",
   "metadata": {},
   "outputs": [
    {
     "name": "stdout",
     "output_type": "stream",
     "text": [
      "58720.03333333333\n",
      "-29049.966666666667\n"
     ]
    }
   ],
   "source": [
    "print (yearly['riding_time'].max())\n",
    "print (yearly['riding_time'].min())"
   ]
  },
  {
   "cell_type": "code",
   "execution_count": 21,
   "id": "3769ef9a",
   "metadata": {},
   "outputs": [
    {
     "data": {
      "text/html": [
       "<div>\n",
       "<style scoped>\n",
       "    .dataframe tbody tr th:only-of-type {\n",
       "        vertical-align: middle;\n",
       "    }\n",
       "\n",
       "    .dataframe tbody tr th {\n",
       "        vertical-align: top;\n",
       "    }\n",
       "\n",
       "    .dataframe thead th {\n",
       "        text-align: right;\n",
       "    }\n",
       "</style>\n",
       "<table border=\"1\" class=\"dataframe\">\n",
       "  <thead>\n",
       "    <tr style=\"text-align: right;\">\n",
       "      <th></th>\n",
       "      <th>start_lat</th>\n",
       "      <th>start_lng</th>\n",
       "      <th>end_lat</th>\n",
       "      <th>end_lng</th>\n",
       "      <th>riding_time</th>\n",
       "    </tr>\n",
       "  </thead>\n",
       "  <tbody>\n",
       "    <tr>\n",
       "      <th>count</th>\n",
       "      <td>3.489748e+06</td>\n",
       "      <td>3.489748e+06</td>\n",
       "      <td>3.485010e+06</td>\n",
       "      <td>3.485010e+06</td>\n",
       "      <td>3.489748e+06</td>\n",
       "    </tr>\n",
       "    <tr>\n",
       "      <th>mean</th>\n",
       "      <td>4.190417e+01</td>\n",
       "      <td>-8.764494e+01</td>\n",
       "      <td>4.190444e+01</td>\n",
       "      <td>-8.764522e+01</td>\n",
       "      <td>2.476664e+01</td>\n",
       "    </tr>\n",
       "    <tr>\n",
       "      <th>std</th>\n",
       "      <td>4.364222e-02</td>\n",
       "      <td>2.575969e-02</td>\n",
       "      <td>4.373705e-02</td>\n",
       "      <td>2.589123e-02</td>\n",
       "      <td>3.904216e+02</td>\n",
       "    </tr>\n",
       "    <tr>\n",
       "      <th>min</th>\n",
       "      <td>4.164000e+01</td>\n",
       "      <td>-8.787000e+01</td>\n",
       "      <td>4.154000e+01</td>\n",
       "      <td>-8.807000e+01</td>\n",
       "      <td>-2.904997e+04</td>\n",
       "    </tr>\n",
       "    <tr>\n",
       "      <th>25%</th>\n",
       "      <td>4.188224e+01</td>\n",
       "      <td>-8.765888e+01</td>\n",
       "      <td>4.188266e+01</td>\n",
       "      <td>-8.765917e+01</td>\n",
       "      <td>7.883333e+00</td>\n",
       "    </tr>\n",
       "    <tr>\n",
       "      <th>50%</th>\n",
       "      <td>4.190000e+01</td>\n",
       "      <td>-8.764170e+01</td>\n",
       "      <td>4.190068e+01</td>\n",
       "      <td>-8.764275e+01</td>\n",
       "      <td>1.451667e+01</td>\n",
       "    </tr>\n",
       "    <tr>\n",
       "      <th>75%</th>\n",
       "      <td>4.193000e+01</td>\n",
       "      <td>-8.762773e+01</td>\n",
       "      <td>4.193120e+01</td>\n",
       "      <td>-8.762775e+01</td>\n",
       "      <td>2.663333e+01</td>\n",
       "    </tr>\n",
       "    <tr>\n",
       "      <th>max</th>\n",
       "      <td>4.208000e+01</td>\n",
       "      <td>-8.752000e+01</td>\n",
       "      <td>4.216000e+01</td>\n",
       "      <td>-8.744000e+01</td>\n",
       "      <td>5.872003e+04</td>\n",
       "    </tr>\n",
       "  </tbody>\n",
       "</table>\n",
       "</div>"
      ],
      "text/plain": [
       "          start_lat     start_lng       end_lat       end_lng   riding_time\n",
       "count  3.489748e+06  3.489748e+06  3.485010e+06  3.485010e+06  3.489748e+06\n",
       "mean   4.190417e+01 -8.764494e+01  4.190444e+01 -8.764522e+01  2.476664e+01\n",
       "std    4.364222e-02  2.575969e-02  4.373705e-02  2.589123e-02  3.904216e+02\n",
       "min    4.164000e+01 -8.787000e+01  4.154000e+01 -8.807000e+01 -2.904997e+04\n",
       "25%    4.188224e+01 -8.765888e+01  4.188266e+01 -8.765917e+01  7.883333e+00\n",
       "50%    4.190000e+01 -8.764170e+01  4.190068e+01 -8.764275e+01  1.451667e+01\n",
       "75%    4.193000e+01 -8.762773e+01  4.193120e+01 -8.762775e+01  2.663333e+01\n",
       "max    4.208000e+01 -8.752000e+01  4.216000e+01 -8.744000e+01  5.872003e+04"
      ]
     },
     "execution_count": 21,
     "metadata": {},
     "output_type": "execute_result"
    }
   ],
   "source": [
    "yearly.describe()"
   ]
  },
  {
   "cell_type": "code",
   "execution_count": 24,
   "id": "e6b86cf3",
   "metadata": {},
   "outputs": [],
   "source": [
    "yearly = yearly[yearly['riding_time'].between(0,1440)]"
   ]
  },
  {
   "cell_type": "code",
   "execution_count": 25,
   "id": "e4a387c3",
   "metadata": {},
   "outputs": [
    {
     "name": "stdout",
     "output_type": "stream",
     "text": [
      "1439.9\n",
      "0.0\n"
     ]
    }
   ],
   "source": [
    "print (yearly['riding_time'].max())\n",
    "print (yearly['riding_time'].min())"
   ]
  },
  {
   "cell_type": "code",
   "execution_count": null,
   "id": "9dc55a17",
   "metadata": {},
   "outputs": [],
   "source": []
  },
  {
   "cell_type": "markdown",
   "id": "8c893e29",
   "metadata": {},
   "source": [
    "# Creating weekday for analysis"
   ]
  },
  {
   "cell_type": "code",
   "execution_count": 27,
   "id": "66c3a108",
   "metadata": {},
   "outputs": [
    {
     "name": "stderr",
     "output_type": "stream",
     "text": [
      "C:\\Users\\mahad\\AppData\\Local\\Temp/ipykernel_1484/3405633930.py:1: SettingWithCopyWarning: \n",
      "A value is trying to be set on a copy of a slice from a DataFrame.\n",
      "Try using .loc[row_indexer,col_indexer] = value instead\n",
      "\n",
      "See the caveats in the documentation: https://pandas.pydata.org/pandas-docs/stable/user_guide/indexing.html#returning-a-view-versus-a-copy\n",
      "  yearly['day_of_week'] = yearly['started_at'].dt.day_name()\n"
     ]
    }
   ],
   "source": [
    "yearly['day_of_week'] = yearly['started_at'].dt.day_name()"
   ]
  },
  {
   "cell_type": "code",
   "execution_count": 28,
   "id": "4d50ac8b",
   "metadata": {},
   "outputs": [
    {
     "data": {
      "text/plain": [
       "0             Sunday\n",
       "1             Friday\n",
       "2          Wednesday\n",
       "3            Tuesday\n",
       "4           Saturday\n",
       "             ...    \n",
       "3489743     Saturday\n",
       "3489744      Tuesday\n",
       "3489745      Tuesday\n",
       "3489746       Monday\n",
       "3489747       Friday\n",
       "Name: day_of_week, Length: 3476314, dtype: object"
      ]
     },
     "execution_count": 28,
     "metadata": {},
     "output_type": "execute_result"
    }
   ],
   "source": [
    "yearly['day_of_week']"
   ]
  },
  {
   "cell_type": "code",
   "execution_count": 29,
   "id": "fedcd9cc",
   "metadata": {},
   "outputs": [
    {
     "data": {
      "text/plain": [
       "array(['Sunday', 'Friday', 'Wednesday', 'Tuesday', 'Saturday', 'Thursday',\n",
       "       'Monday'], dtype=object)"
      ]
     },
     "execution_count": 29,
     "metadata": {},
     "output_type": "execute_result"
    }
   ],
   "source": [
    "yearly['day_of_week'].unique()"
   ]
  },
  {
   "cell_type": "markdown",
   "id": "6da3d6cb",
   "metadata": {},
   "source": [
    "# classifying riding hour "
   ]
  },
  {
   "cell_type": "code",
   "execution_count": 31,
   "id": "72b1318e",
   "metadata": {},
   "outputs": [
    {
     "name": "stderr",
     "output_type": "stream",
     "text": [
      "C:\\Users\\mahad\\AppData\\Local\\Temp/ipykernel_1484/1411790220.py:1: SettingWithCopyWarning: \n",
      "A value is trying to be set on a copy of a slice from a DataFrame.\n",
      "Try using .loc[row_indexer,col_indexer] = value instead\n",
      "\n",
      "See the caveats in the documentation: https://pandas.pydata.org/pandas-docs/stable/user_guide/indexing.html#returning-a-view-versus-a-copy\n",
      "  yearly['riding_hour'] = yearly['started_at'].dt.hour\n"
     ]
    }
   ],
   "source": [
    "yearly['riding_hour'] = yearly['started_at'].dt.hour"
   ]
  },
  {
   "cell_type": "code",
   "execution_count": 32,
   "id": "0b0d7e63",
   "metadata": {},
   "outputs": [
    {
     "data": {
      "text/plain": [
       "0          17\n",
       "1          17\n",
       "2          17\n",
       "3          12\n",
       "4          10\n",
       "           ..\n",
       "3489743    14\n",
       "3489744    11\n",
       "3489745    11\n",
       "3489746    18\n",
       "3489747    17\n",
       "Name: riding_hour, Length: 3476314, dtype: int64"
      ]
     },
     "execution_count": 32,
     "metadata": {},
     "output_type": "execute_result"
    }
   ],
   "source": [
    "yearly['riding_hour']"
   ]
  },
  {
   "cell_type": "code",
   "execution_count": 33,
   "id": "806bb2f3",
   "metadata": {},
   "outputs": [
    {
     "data": {
      "text/plain": [
       "array([17, 12, 10, 14, 15, 18, 13,  2, 16,  8, 20, 19, 11, 23,  6,  9,  7,\n",
       "       22, 21,  1,  5,  0,  4,  3], dtype=int64)"
      ]
     },
     "execution_count": 33,
     "metadata": {},
     "output_type": "execute_result"
    }
   ],
   "source": [
    "yearly['riding_hour'].unique()"
   ]
  },
  {
   "cell_type": "code",
   "execution_count": 35,
   "id": "a361a4d5",
   "metadata": {},
   "outputs": [
    {
     "name": "stderr",
     "output_type": "stream",
     "text": [
      "C:\\Users\\mahad\\AppData\\Local\\Temp/ipykernel_1484/3007892369.py:12: SettingWithCopyWarning: \n",
      "A value is trying to be set on a copy of a slice from a DataFrame.\n",
      "Try using .loc[row_indexer,col_indexer] = value instead\n",
      "\n",
      "See the caveats in the documentation: https://pandas.pydata.org/pandas-docs/stable/user_guide/indexing.html#returning-a-view-versus-a-copy\n",
      "  yearly['riding_hour'] = np.select(conditions, values)\n"
     ]
    }
   ],
   "source": [
    "conditions = [\n",
    "    (yearly['riding_hour'].between(0,5)),\n",
    "    (yearly['riding_hour'].between(5,8)),\n",
    "    (yearly['riding_hour'].between(8,12)),\n",
    "    (yearly['riding_hour'].between(12,15)),\n",
    "    (yearly['riding_hour'].between(15,18)),\n",
    "    (yearly['riding_hour'].between(18,24))\n",
    "]\n",
    "\n",
    "values = ['night_ride','early_morning_ride','morning_ride', 'noon_ride', 'afternoon_ride', 'evening_ride']\n",
    "\n",
    "yearly['riding_hour'] = np.select(conditions, values)"
   ]
  },
  {
   "cell_type": "code",
   "execution_count": 36,
   "id": "317e0aaf",
   "metadata": {},
   "outputs": [
    {
     "data": {
      "text/plain": [
       "0          afternoon_ride\n",
       "1          afternoon_ride\n",
       "2          afternoon_ride\n",
       "3            morning_ride\n",
       "4            morning_ride\n",
       "                ...      \n",
       "3489743         noon_ride\n",
       "3489744      morning_ride\n",
       "3489745      morning_ride\n",
       "3489746    afternoon_ride\n",
       "3489747    afternoon_ride\n",
       "Name: riding_hour, Length: 3476314, dtype: object"
      ]
     },
     "execution_count": 36,
     "metadata": {},
     "output_type": "execute_result"
    }
   ],
   "source": [
    "yearly['riding_hour']"
   ]
  },
  {
   "cell_type": "code",
   "execution_count": 37,
   "id": "e6c5df08",
   "metadata": {},
   "outputs": [
    {
     "data": {
      "text/plain": [
       "array(['afternoon_ride', 'morning_ride', 'noon_ride', 'night_ride',\n",
       "       'early_morning_ride', 'evening_ride'], dtype=object)"
      ]
     },
     "execution_count": 37,
     "metadata": {},
     "output_type": "execute_result"
    }
   ],
   "source": [
    "yearly['riding_hour'].unique()"
   ]
  }
 ],
 "metadata": {
  "kernelspec": {
   "display_name": "Python 3 (ipykernel)",
   "language": "python",
   "name": "python3"
  },
  "language_info": {
   "codemirror_mode": {
    "name": "ipython",
    "version": 3
   },
   "file_extension": ".py",
   "mimetype": "text/x-python",
   "name": "python",
   "nbconvert_exporter": "python",
   "pygments_lexer": "ipython3",
   "version": "3.9.7"
  }
 },
 "nbformat": 4,
 "nbformat_minor": 5
}
